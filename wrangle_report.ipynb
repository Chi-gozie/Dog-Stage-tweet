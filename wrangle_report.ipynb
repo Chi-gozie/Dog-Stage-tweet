{
 "cells": [
  {
   "cell_type": "markdown",
   "metadata": {},
   "source": [
    "## Reporting: wragle_report\n",
    "* Create a **300-600 word written report** called \"wrangle_report.pdf\" or \"wrangle_report.html\" that briefly describes your wrangling efforts. This is to be framed as an internal document."
   ]
  },
  {
   "cell_type": "markdown",
   "metadata": {},
   "source": [
    "## Introduction\n",
    "\n",
    "The wrangle_report consists of how my dataset were gathered, asssesed and cleaned."
   ]
  },
  {
   "cell_type": "markdown",
   "metadata": {},
   "source": [
    "## Gathering Data\n",
    "\n",
    "I imported pandas, numpy, matplotlib and seaborn. Rate_dog archive data was  downloaded by reading the CSV file. Image predictions were gathered using the request function and the json file was gathered by loading the txt file into pandas datframe."
   ]
  },
  {
   "cell_type": "markdown",
   "metadata": {},
   "source": [
    "## Assessment\n",
    "\n",
    "Assesments were done using both visual and programmatic assessment. I detected eleven issues, some which were obvious by visual assesment, for instance null values wer present in the first table. progammatic assessment was used to detect duplicate columns the three data set, datatypes and columns that are not needed for analysis. The following issues were detected;\n",
    "Quality Issues\n",
    "1. tweet_id is an integer on df_archive table\n",
    "\n",
    "2. tweet_id is an integer on df_tweet table\n",
    "\n",
    "3. tweet_id is an integer on df_image table\n",
    "\n",
    "4. retweeted ratings in df_arhive table\n",
    "\n",
    "5. irrelevant columns(retweeted_status_id, retweeted_status_user_id, retweeted_status_timestamp)\n",
    "\n",
    "6. timestamp as an object on df_archive table\n",
    "\n",
    "7. in_reply_to status_id is a float\n",
    "\n",
    "8. in_reply_to_user_id is a float\n",
    "\n",
    "9. null values\n",
    "\n",
    "10. Two dataset(df_archive and df_tweets) should be a single dataset\n",
    "\n",
    "Tidiness issues\n",
    "1. dog_stage in four columns \n",
    "\n",
    "2. retweet_count and favorite_count should be part of df_archive table\n"
   ]
  },
  {
   "cell_type": "markdown",
   "metadata": {},
   "source": [
    "## Cleaning\n",
    "\n",
    "Tidiness issues were cleaned first before quality issues. However, I first renamed the id column to tweeet_id for consistency with the other tables. Then, datatype issues were cleaned before cleaning the second tidiness issue above. Afterwards, i proceeded to cleaning all the quality issues listed above.\n",
    "Various pandas functions were used such as; .melt(), .dropna(), astype(), .drop(), .to_datetime(), .join().\n",
    "Lastly, the first tidiness issue was cleaned; the four columns containing the dog stages were melted into one column and the muliple stages present in two columns in some were taken equally cleaned. Afterwards, null values in the dog_stage column were droped.\n",
    "I ended up with two tables named; archive_new and df_image_cleaned."
   ]
  },
  {
   "cell_type": "markdown",
   "metadata": {},
   "source": [
    "## Storing\n",
    "\n",
    "I saved my cleaned datasets in a csv file named twitter_archive_master.csv and image.csv. Thus, ready for exploratory data analysis."
   ]
  },
  {
   "cell_type": "code",
   "execution_count": 2,
   "metadata": {},
   "outputs": [
    {
     "data": {
      "text/plain": [
       "0"
      ]
     },
     "execution_count": 2,
     "metadata": {},
     "output_type": "execute_result"
    }
   ],
   "source": [
    "from subprocess import call\n",
    "call(['python', '-m', 'nbconvert', 'wrangle_report.ipynb'])"
   ]
  },
  {
   "cell_type": "code",
   "execution_count": null,
   "metadata": {},
   "outputs": [],
   "source": []
  }
 ],
 "metadata": {
  "kernelspec": {
   "display_name": "Python 3",
   "language": "python",
   "name": "python3"
  },
  "language_info": {
   "codemirror_mode": {
    "name": "ipython",
    "version": 3
   },
   "file_extension": ".py",
   "mimetype": "text/x-python",
   "name": "python",
   "nbconvert_exporter": "python",
   "pygments_lexer": "ipython3",
   "version": "3.6.3"
  }
 },
 "nbformat": 4,
 "nbformat_minor": 2
}
